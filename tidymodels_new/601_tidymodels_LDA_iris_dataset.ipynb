{
  "nbformat": 4,
  "nbformat_minor": 0,
  "metadata": {
    "colab": {
      "provenance": []
    },
    "kernelspec": {
      "name": "ir",
      "display_name": "R"
    },
    "language_info": {
      "name": "R"
    }
  },
  "cells": [
    {
      "cell_type": "code",
      "execution_count": null,
      "metadata": {
        "id": "gBZlHcegSbJa"
      },
      "outputs": [],
      "source": [
        "# classification on iris dataset"
      ]
    },
    {
      "cell_type": "code",
      "source": [
        "install.packages('tidymodels')"
      ],
      "metadata": {
        "id": "2AaK5DzuTDEz"
      },
      "execution_count": null,
      "outputs": []
    },
    {
      "cell_type": "code",
      "source": [
        "# install.packages('randomForest')"
      ],
      "metadata": {
        "id": "oUiBFxIMYjGX"
      },
      "execution_count": null,
      "outputs": []
    },
    {
      "cell_type": "code",
      "source": [
        "install.packages('discrim')"
      ],
      "metadata": {
        "id": "Tkyp3dOzkHWT"
      },
      "execution_count": null,
      "outputs": []
    },
    {
      "cell_type": "code",
      "source": [
        "# load libraries\n",
        "library(tidyverse)\n",
        "library(tidymodels)"
      ],
      "metadata": {
        "id": "29cAYrPFSxKm"
      },
      "execution_count": null,
      "outputs": []
    },
    {
      "cell_type": "code",
      "source": [
        "data(iris)\n",
        "head(iris)"
      ],
      "metadata": {
        "id": "DYo0Q0BXS4LW"
      },
      "execution_count": null,
      "outputs": []
    },
    {
      "cell_type": "code",
      "source": [
        "dim(iris)"
      ],
      "metadata": {
        "id": "rS3m_zmOUyTd"
      },
      "execution_count": null,
      "outputs": []
    },
    {
      "cell_type": "code",
      "source": [
        "# split dataset into training and testing\n",
        "set.seed(101)\n",
        "iris_split<- initial_split(iris, prop = 0.7)\n",
        "iris_split"
      ],
      "metadata": {
        "id": "QcI2nnNCU0l_"
      },
      "execution_count": null,
      "outputs": []
    },
    {
      "cell_type": "code",
      "source": [
        "# transform into training and testing datasets\n",
        "iris_train<- training(iris_split)\n",
        "iris_test <- testing(iris_split)\n",
        "dim(iris_train)\n",
        "dim(iris_test)"
      ],
      "metadata": {
        "id": "GuuU6l2RV0mO"
      },
      "execution_count": null,
      "outputs": []
    },
    {
      "cell_type": "code",
      "source": [
        "# create recipe or formula prior to model construction\n",
        "simple_iris <- recipe(Species ~ Sepal.Length + \n",
        "                                Sepal.Width + \n",
        "                                Petal.Length + \n",
        "                                Petal.Width, \n",
        "                                data = iris)"
      ],
      "metadata": {
        "id": "nIIcw8GXWIyf"
      },
      "execution_count": null,
      "outputs": []
    },
    {
      "cell_type": "code",
      "source": [
        "# preprocessing\n",
        "simple_iris <- prep(simple_iris, training = iris_train)"
      ],
      "metadata": {
        "id": "4pB5rgktWwhq"
      },
      "execution_count": null,
      "outputs": []
    },
    {
      "cell_type": "code",
      "source": [
        "simple_iris"
      ],
      "metadata": {
        "id": "HnT9eWbYW-mP"
      },
      "execution_count": null,
      "outputs": []
    },
    {
      "cell_type": "code",
      "source": [
        "train_ex <- bake(simple_iris, new_data = NULL)\n",
        "test_ex <- bake(simple_iris, new_data = iris_test)"
      ],
      "metadata": {
        "id": "Or8z2N7oXAz2"
      },
      "execution_count": null,
      "outputs": []
    },
    {
      "cell_type": "code",
      "source": [
        "library(discrim)\n",
        "lda_model <-\n",
        " discrim_linear() %>%\n",
        "  set_engine('MASS')"
      ],
      "metadata": {
        "id": "35KVN-Bajwxi"
      },
      "execution_count": null,
      "outputs": []
    },
    {
      "cell_type": "code",
      "source": [
        "# add workflow\n",
        "lda_wflow <-\n",
        "    workflow() %>%\n",
        "    add_model(lda_model) %>%\n",
        "    add_recipe(simple_iris)"
      ],
      "metadata": {
        "id": "N8x7vlnwkaIj"
      },
      "execution_count": null,
      "outputs": []
    },
    {
      "cell_type": "code",
      "source": [
        "# fit the model\n",
        "lda_fit <- fit(lda_wflow, iris_train)\n",
        "lda_fit"
      ],
      "metadata": {
        "id": "AbhJF7TxlBhG"
      },
      "execution_count": null,
      "outputs": []
    },
    {
      "cell_type": "code",
      "source": [
        "# make predictions\n",
        "preds_lda <- predict(lda_fit, new_data = test_ex)"
      ],
      "metadata": {
        "id": "gLrBm8mNlY3B"
      },
      "execution_count": null,
      "outputs": []
    },
    {
      "cell_type": "code",
      "source": [
        "table(test_ex$Species, preds_lda$.pred_class)"
      ],
      "metadata": {
        "id": "RXYMTlx0ll2-"
      },
      "execution_count": null,
      "outputs": []
    },
    {
      "cell_type": "code",
      "source": [
        "# prediction evaluation\n",
        "lda_fit %>% \n",
        "    predict(test_ex) %>% \n",
        "    bind_cols(test_ex) %>% \n",
        "    metrics(truth = Species, estimate = .pred_class)"
      ],
      "metadata": {
        "id": "YJbsx1fOlzEh"
      },
      "execution_count": null,
      "outputs": []
    }
  ]
}